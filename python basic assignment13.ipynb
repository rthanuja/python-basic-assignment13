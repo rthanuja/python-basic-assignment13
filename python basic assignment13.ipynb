{
 "cells": [
  {
   "cell_type": "code",
   "execution_count": null,
   "id": "948e22d7",
   "metadata": {},
   "outputs": [],
   "source": [
    "#1. What advantages do Excel spreadsheets have over CSV spreadsheets?\n",
    "\n",
    "Excel can perform operations on the data whereas CSV cannot perform any operations on the data.\n",
    "In Excel apart from text,data can be stored in the form of charts or graphs whereas CSV cannot store charts or graphs.\n"
   ]
  },
  {
   "cell_type": "code",
   "execution_count": null,
   "id": "14e7e1cb",
   "metadata": {},
   "outputs": [],
   "source": [
    "#2.What do you pass to csv.reader() and csv.writer() to create reader and writer objects?\n",
    "\n",
    "file object which is created by opening the CSV file using open() method in read mode ('r') is passed to csv.reader()\n",
    "and csv.writer() to create reader and writer objects.\n",
    "‘with’ keyword is used along with the open() method as it simplifies exception handling and automatically\n",
    "closes the CSV file.\n",
    "\n",
    "example:\n",
    "#for reading csv files\n",
    "import csv\n",
    "with open(\"file.csv\",'r') as file:\n",
    "    csvreader=cvs.reader(file)\n",
    "#for writing csv files\n",
    "import csv\n",
    "with open(\"file.csv\",'w') as file:\n",
    "    csvwriter=cvs.writer(file)"
   ]
  },
  {
   "cell_type": "code",
   "execution_count": null,
   "id": "19d8304f",
   "metadata": {},
   "outputs": [],
   "source": [
    "#3. What modes do File objects for reader and writer objects need to be opened in?\n",
    "\n",
    "File objects for reader need to be opened in 'r' mode(READ mode)\n",
    "File objects for writer need to be opened in 'w' mode(WRITE mode)"
   ]
  },
  {
   "cell_type": "code",
   "execution_count": null,
   "id": "dc19f133",
   "metadata": {},
   "outputs": [],
   "source": [
    "#4. What method takes a list argument and writes it to a CSV file?\n",
    "\n",
    "csv.writer has 2 methods that takes list argument and writes it to CSV file.\n",
    "1.writerow()- this method writes a single row at a time.(takes a list of element)\n",
    "2.writerows()-this method writes multiple rows at a time.(takes list of lists)"
   ]
  },
  {
   "cell_type": "code",
   "execution_count": null,
   "id": "28048eff",
   "metadata": {},
   "outputs": [],
   "source": [
    "#5. What do the keyword arguments delimiter and line terminator do?\n",
    "\n",
    "delimiter= a one character string used to separate fields.it defaults to \",\"\n",
    "line terminator = string will terminate lines produced by writer.it defaults to \"\\n\" or \"\\r\""
   ]
  },
  {
   "cell_type": "code",
   "execution_count": null,
   "id": "14e9a525",
   "metadata": {},
   "outputs": [],
   "source": [
    "#6. What function takes a string of JSON data and returns a Python data structure?\n",
    "\n",
    "loads() method  takes a string of JSON data and returns a Python data structure.\n",
    "\n",
    "import json\n",
    "json.loads(json_string)\n"
   ]
  },
  {
   "cell_type": "code",
   "execution_count": null,
   "id": "63a679bf",
   "metadata": {},
   "outputs": [],
   "source": [
    "#7. What function takes a Python data structure and returns a string of JSON data?\n",
    "\n",
    "dumps() method  takes a Python data structure and returns a string of JSON data.\n",
    "\n",
    "import json\n",
    "json.dumps(python_data)"
   ]
  }
 ],
 "metadata": {
  "kernelspec": {
   "display_name": "Python 3 (ipykernel)",
   "language": "python",
   "name": "python3"
  },
  "language_info": {
   "codemirror_mode": {
    "name": "ipython",
    "version": 3
   },
   "file_extension": ".py",
   "mimetype": "text/x-python",
   "name": "python",
   "nbconvert_exporter": "python",
   "pygments_lexer": "ipython3",
   "version": "3.10.9"
  }
 },
 "nbformat": 4,
 "nbformat_minor": 5
}
